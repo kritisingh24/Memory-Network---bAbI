{
 "cells": [
  {
   "cell_type": "code",
   "execution_count": 1,
   "metadata": {},
   "outputs": [],
   "source": [
    "from __future__ import print_function, division\n",
    "from builtins import range, input\n",
    "\n",
    "\n",
    "import numpy as np\n",
    "import keras.backend as K\n",
    "import matplotlib.pyplot as plt\n",
    "import re\n",
    "import tarfile\n",
    "\n",
    "from keras.models import Model\n",
    "from keras.layers import Dense, Embedding, Input, Lambda, Reshape, add, dot, Activation\n",
    "from keras.preprocessing.sequence import pad_sequences\n",
    "from keras.optimizers import Adam, RMSprop\n",
    "from keras.utils.data_utils import get_file"
   ]
  },
  {
   "cell_type": "code",
   "execution_count": 2,
   "metadata": {},
   "outputs": [],
   "source": [
    "path = get_file(\n",
    "  'babi-tasks-v1-2.tar.gz', \n",
    "  origin='https://s3.amazonaws.com/text-datasets/babi_tasks_1-20_v1-2.tar.gz')\n",
    "tar = tarfile.open(path)"
   ]
  },
  {
   "cell_type": "code",
   "execution_count": 3,
   "metadata": {},
   "outputs": [],
   "source": [
    "challenges = {\n",
    "  # QA1 with 10,000 samples\n",
    "  'single_supporting_fact_10k': 'tasks_1-20_v1-2/en-10k/qa1_single-supporting-fact_{}.txt',\n",
    "  # QA2 with 10,000 samples\n",
    "  'two_supporting_facts_10k': 'tasks_1-20_v1-2/en-10k/qa2_two-supporting-facts_{}.txt',\n",
    "}"
   ]
  },
  {
   "cell_type": "code",
   "execution_count": 4,
   "metadata": {},
   "outputs": [],
   "source": [
    "def tokenize(sent):\n",
    "    return [x.strip() for x in re.split('(\\W+?)', sent) if x.strip()]"
   ]
  },
  {
   "cell_type": "code",
   "execution_count": 5,
   "metadata": {},
   "outputs": [],
   "source": [
    "def get_stories(f):\n",
    "  \n",
    "  data = []\n",
    "\n",
    "  # use this list to keep track of the story so far\n",
    "  story = []\n",
    "\n",
    "  # print a random story, helpful to see the data\n",
    "  printed = False\n",
    "  for line in f:\n",
    "    line = line.decode('utf-8').strip()\n",
    "\n",
    "    # split the line number from the rest of the line\n",
    "    nid, line = line.split(' ', 1)\n",
    "\n",
    "    # see if we should begin a new story\n",
    "    if int(nid) == 1:\n",
    "      story = []\n",
    "\n",
    "    \n",
    "    if '\\t' in line:\n",
    "      q, a, supporting = line.split('\\t')\n",
    "      q = tokenize(q)\n",
    "\n",
    "      \n",
    "      story_so_far = [[str(i)] + s for i, s in enumerate(story) if s]\n",
    "\n",
    "      \n",
    "      data.append((story_so_far, q, a))\n",
    "      story.append('')\n",
    "    else:\n",
    "      # just add the line to the current story\n",
    "      story.append(tokenize(line))\n",
    "  return data"
   ]
  },
  {
   "cell_type": "code",
   "execution_count": 6,
   "metadata": {},
   "outputs": [],
   "source": [
    "# recursively flatten a list\n",
    "def should_flatten(el): \n",
    "  return not isinstance(el, (str, bytes))\n",
    "\n",
    "def flatten(l):\n",
    "  for el in l:\n",
    "    if should_flatten(el):\n",
    "      yield from flatten(el)\n",
    "    else:\n",
    "      yield el"
   ]
  },
  {
   "cell_type": "code",
   "execution_count": 7,
   "metadata": {},
   "outputs": [],
   "source": [
    "# convert stories from words into lists of word indexes (integers)\n",
    "def vectorize_stories(data, word2idx, story_maxlen, query_maxlen):\n",
    "  inputs, queries, answers = [], [], []\n",
    "  for story, query, answer in data:\n",
    "    inputs.append([[word2idx[w] for w in s] for s in story])\n",
    "    queries.append([word2idx[w] for w in query])\n",
    "    answers.append([word2idx[answer]])\n",
    "  return (\n",
    "    [pad_sequences(x, maxlen=story_maxlen) for x in inputs],\n",
    "    pad_sequences(queries, maxlen=query_maxlen),\n",
    "    np.array(answers)\n",
    "  )"
   ]
  },
  {
   "cell_type": "code",
   "execution_count": 8,
   "metadata": {},
   "outputs": [],
   "source": [
    "# this is like 'pad_sequences' but for entire stories\n",
    "\n",
    "def stack_inputs(inputs, story_maxsents, story_maxlen):\n",
    "  for i, story in enumerate(inputs):\n",
    "    inputs[i] = np.concatenate(\n",
    "      [\n",
    "        story, \n",
    "        np.zeros((story_maxsents - story.shape[0], story_maxlen), 'int')\n",
    "      ]\n",
    "    )\n",
    "  return np.stack(inputs)"
   ]
  },
  {
   "cell_type": "code",
   "execution_count": 9,
   "metadata": {},
   "outputs": [],
   "source": [
    "\n",
    "def get_data(challenge_type):\n",
    "  # input should either be 'single_supporting_fact_10k' or 'two_supporting_facts_10k'\n",
    "  challenge = challenges[challenge_type]\n",
    "\n",
    "\n",
    "\n",
    "  train_stories = get_stories(tar.extractfile(challenge.format('train')))\n",
    "  test_stories = get_stories(tar.extractfile(challenge.format('test')))\n",
    "\n",
    "\n",
    "  # group all the stories together\n",
    "  stories = train_stories + test_stories\n",
    "\n",
    "  # so we can get the max length of each story, of each sentence, and of each question\n",
    "  story_maxlen = max((len(s) for x, _, _ in stories for s in x))\n",
    "  story_maxsents = max((len(x) for x, _, _ in stories))\n",
    "  query_maxlen = max(len(x) for _, x, _ in stories)\n",
    "\n",
    "  # Create vocabulary of corpus and find size, including a padding element.\n",
    "  vocab = sorted(set(flatten(stories)))\n",
    "  vocab.insert(0, '<PAD>')\n",
    "  vocab_size = len(vocab)\n",
    "\n",
    "  # Create an index mapping for the vocabulary.\n",
    "  word2idx = {c:i for i, c in enumerate(vocab)}\n",
    "\n",
    "  # convert stories from strings to lists of integers\n",
    "  inputs_train, queries_train, answers_train = vectorize_stories(\n",
    "    train_stories, \n",
    "    word2idx,\n",
    "    story_maxlen,\n",
    "    query_maxlen\n",
    "  )\n",
    "  inputs_test, queries_test, answers_test = vectorize_stories(\n",
    "    test_stories, \n",
    "    word2idx,\n",
    "    story_maxlen,\n",
    "    query_maxlen\n",
    "  )\n",
    "\n",
    "  # convert inputs into 3-D numpy arrays\n",
    "  inputs_train = stack_inputs(inputs_train, story_maxsents, story_maxlen)\n",
    "  inputs_test = stack_inputs(inputs_test, story_maxsents, story_maxlen)\n",
    "  print(\"inputs_train.shape, inputs_test.shape\", inputs_train.shape, inputs_test.shape)\n",
    "\n",
    "\n",
    "  # return model inputs for keras\n",
    "  return train_stories, test_stories, \\\n",
    "    inputs_train, queries_train, answers_train, \\\n",
    "    inputs_test, queries_test, answers_test, \\\n",
    "    story_maxsents, story_maxlen, query_maxlen, \\\n",
    "    vocab, vocab_size"
   ]
  },
  {
   "cell_type": "code",
   "execution_count": 10,
   "metadata": {},
   "outputs": [
    {
     "name": "stdout",
     "output_type": "stream",
     "text": [
      "inputs_train.shape, inputs_test.shape (10000, 10, 8) (1000, 10, 8)\n"
     ]
    }
   ],
   "source": [
    "# get the single supporting fact data\n",
    "train_stories, test_stories, \\\n",
    "  inputs_train, queries_train, answers_train, \\\n",
    "  inputs_test, queries_test, answers_test, \\\n",
    "  story_maxsents, story_maxlen, query_maxlen, \\\n",
    "  vocab, vocab_size = get_data('single_supporting_fact_10k')"
   ]
  },
  {
   "cell_type": "code",
   "execution_count": 11,
   "metadata": {},
   "outputs": [
    {
     "name": "stdout",
     "output_type": "stream",
     "text": [
      "input_story_.shape, embedded_story.shape: (None, 10, 8) (None, 10, 15)\n",
      "inp_q.shape, emb_q.shape: (None, 4) (None, 1, 15)\n",
      "story_weights.shape: (None, 10, 1)\n"
     ]
    }
   ],
   "source": [
    "##### create the model #####\n",
    "embedding_dim = 15\n",
    "\n",
    "input_story_ = Input((story_maxsents, story_maxlen))\n",
    "embedded_story = Embedding(vocab_size, embedding_dim)(input_story_)\n",
    "embedded_story = Lambda(lambda x: K.sum(x, axis=2))(embedded_story)\n",
    "print(\"input_story_.shape, embedded_story.shape:\", input_story_.shape, embedded_story.shape)\n",
    "\n",
    "\n",
    "input_question_ = Input((query_maxlen,))\n",
    "embedded_question = Embedding(vocab_size, embedding_dim)(input_question_)\n",
    "embedded_question = Lambda(lambda x: K.sum(x, axis=1))(embedded_question)\n",
    "\n",
    "embedded_question = Reshape((1, embedding_dim))(embedded_question)\n",
    "print(\"inp_q.shape, emb_q.shape:\", input_question_.shape, embedded_question.shape)\n",
    "\n",
    "\n",
    "x = dot([embedded_story, embedded_question], 2)\n",
    "x = Reshape((story_maxsents,))(x) # flatten the vector\n",
    "x = Activation('softmax')(x)\n",
    "story_weights = Reshape((story_maxsents, 1))(x) # unflatten it again to be dotted later\n",
    "print(\"story_weights.shape:\", story_weights.shape)\n",
    "\n",
    "\n",
    "\n",
    "x = dot([story_weights, embedded_story], 1)\n",
    "x = Reshape((embedding_dim,))(x) # flatten it again\n",
    "ans = Dense(vocab_size, activation='softmax')(x)\n",
    "\n",
    "# make the model\n",
    "model = Model([input_story_, input_question_], ans)\n",
    "\n",
    "# compile the model\n",
    "model.compile(\n",
    "  optimizer=RMSprop(lr=1e-2),\n",
    "  loss='sparse_categorical_crossentropy',\n",
    "  metrics=['accuracy']\n",
    ")"
   ]
  },
  {
   "cell_type": "code",
   "execution_count": 12,
   "metadata": {},
   "outputs": [
    {
     "name": "stdout",
     "output_type": "stream",
     "text": [
      "Epoch 1/4\n",
      "313/313 [==============================] - 1s 3ms/step - loss: 0.7465 - accuracy: 0.7360 - val_loss: 0.0461 - val_accuracy: 0.9860\n",
      "Epoch 2/4\n",
      "313/313 [==============================] - 1s 2ms/step - loss: 0.0091 - accuracy: 0.9975 - val_loss: 1.0588e-04 - val_accuracy: 1.0000\n",
      "Epoch 3/4\n",
      "313/313 [==============================] - 1s 2ms/step - loss: 0.0047 - accuracy: 0.9983 - val_loss: 2.9166e-06 - val_accuracy: 1.0000\n",
      "Epoch 4/4\n",
      "313/313 [==============================] - 1s 2ms/step - loss: 0.0068 - accuracy: 0.9984 - val_loss: 0.0040 - val_accuracy: 0.9980\n"
     ]
    }
   ],
   "source": [
    "# train the model\n",
    "r = model.fit(\n",
    "  [inputs_train, queries_train],\n",
    "  answers_train,\n",
    "  epochs=4,\n",
    "  batch_size=32,\n",
    "  validation_data=([inputs_test, queries_test], answers_test)\n",
    ")"
   ]
  },
  {
   "cell_type": "code",
   "execution_count": 13,
   "metadata": {},
   "outputs": [],
   "source": [
    "# Check how we weight each input sentence given a story and question\n",
    "debug_model = Model([input_story_, input_question_], story_weights)"
   ]
  },
  {
   "cell_type": "code",
   "execution_count": 14,
   "metadata": {},
   "outputs": [],
   "source": [
    "# choose a random story\n",
    "story_idx = np.random.choice(len(train_stories))"
   ]
  },
  {
   "cell_type": "code",
   "execution_count": 15,
   "metadata": {},
   "outputs": [
    {
     "name": "stdout",
     "output_type": "stream",
     "text": [
      "story:\n",
      "\n",
      "0.99168 \t 0 Sandra went to the garden .\n",
      "0.00003 \t 1 Daniel travelled to the kitchen .\n",
      "0.00075 \t 3 John went to the bedroom .\n",
      "0.00749 \t 4 Daniel went to the hallway .\n",
      "question: Where is Sandra ?\n",
      "answer: garden\n"
     ]
    }
   ],
   "source": [
    "# get weights from debug model\n",
    "i = inputs_train[story_idx:story_idx+1]\n",
    "q = queries_train[story_idx:story_idx+1]\n",
    "w = debug_model.predict([i, q]).flatten()\n",
    "\n",
    "story, question, ans = train_stories[story_idx]\n",
    "print(\"story:\\n\")\n",
    "for i, line in enumerate(story):\n",
    "  print(\"{:1.5f}\".format(w[i]), \"\\t\", \" \".join(line))\n",
    "\n",
    "print(\"question:\", \" \".join(question))\n",
    "print(\"answer:\", ans)"
   ]
  },
  {
   "cell_type": "code",
   "execution_count": 16,
   "metadata": {},
   "outputs": [
    {
     "name": "stdout",
     "output_type": "stream",
     "text": [
      "Hit enter to continue\n",
      "\n",
      "\n"
     ]
    },
    {
     "data": {
      "text/plain": [
       "''"
      ]
     },
     "execution_count": 16,
     "metadata": {},
     "output_type": "execute_result"
    }
   ],
   "source": [
    "# pause so we can see the output\n",
    "input(\"Hit enter to continue\\n\\n\")"
   ]
  },
  {
   "cell_type": "code",
   "execution_count": 17,
   "metadata": {},
   "outputs": [
    {
     "name": "stdout",
     "output_type": "stream",
     "text": [
      "inputs_train.shape, inputs_test.shape (10000, 88, 8) (1000, 88, 8)\n"
     ]
    }
   ],
   "source": [
    "##### two supporting facts #####\n",
    "\n",
    "\n",
    "# get the two supporting fact data\n",
    "train_stories, test_stories, \\\n",
    "  inputs_train, queries_train, answers_train, \\\n",
    "  inputs_test, queries_test, answers_test, \\\n",
    "  story_maxsents, story_maxlen, query_maxlen, \\\n",
    "  vocab, vocab_size = get_data('two_supporting_facts_10k')"
   ]
  },
  {
   "cell_type": "code",
   "execution_count": 18,
   "metadata": {},
   "outputs": [],
   "source": [
    "##### create the model #####\n",
    "embedding_dim = 30\n",
    "\n",
    "\n",
    "# make a function for this so we can use it again\n",
    "def embed_and_sum(x, axis=2):\n",
    "  x = Embedding(vocab_size, embedding_dim)(x)\n",
    "  x = Lambda(lambda x: K.sum(x, axis))(x)\n",
    "  return x\n",
    "\n",
    "# define the inputs\n",
    "input_story_ = Input((story_maxsents, story_maxlen))\n",
    "input_question_ = Input((query_maxlen,))\n",
    "\n",
    "\n",
    "# embed the inputs\n",
    "embedded_story = embed_and_sum(input_story_)\n",
    "embedded_question = embed_and_sum(input_question_, 1)\n",
    "\n",
    "\n",
    "# final dense will be used in each hop\n",
    "dense_layer = Dense(embedding_dim, activation='elu')\n",
    "\n",
    "\n",
    "def hop(query, story):\n",
    "  # query.shape = (embedding_dim,)\n",
    "  # story.shape = (num sentences, embedding_dim)\n",
    "  x = Reshape((1, embedding_dim))(query) # make it (1, embedding_dim)\n",
    "  x = dot([story, x], 2)\n",
    "  x = Reshape((story_maxsents,))(x) # flatten it for softmax\n",
    "  x = Activation('softmax')(x)\n",
    "  story_weights = Reshape((story_maxsents, 1))(x) # unflatten for dotting\n",
    "\n",
    "  # makes a new embedding\n",
    "  story_embedding2 = embed_and_sum(input_story_)\n",
    "  x = dot([story_weights, story_embedding2], 1)\n",
    "  x = Reshape((embedding_dim,))(x)\n",
    "  x = dense_layer(x)\n",
    "  return x, story_embedding2, story_weights\n",
    "\n",
    "\n",
    "# do the hops\n",
    "ans1, embedded_story, story_weights1 = hop(embedded_question, embedded_story)\n",
    "ans2, _,              story_weights2 = hop(ans1,              embedded_story)\n",
    "\n",
    "# get the final answer\n",
    "ans = Dense(vocab_size, activation='softmax')(ans2)\n",
    "\n",
    "\n",
    "# build the model\n",
    "model2 = Model([input_story_, input_question_], ans)\n",
    "\n",
    "# compile the model\n",
    "model2.compile(\n",
    "  optimizer=RMSprop(lr=5e-3),\n",
    "  loss='sparse_categorical_crossentropy',\n",
    "  metrics=['accuracy']\n",
    ")"
   ]
  },
  {
   "cell_type": "code",
   "execution_count": 19,
   "metadata": {},
   "outputs": [
    {
     "name": "stdout",
     "output_type": "stream",
     "text": [
      "Epoch 1/30\n",
      "313/313 [==============================] - 4s 13ms/step - loss: 1.7526 - accuracy: 0.2593 - val_loss: 1.5431 - val_accuracy: 0.3710\n",
      "Epoch 2/30\n",
      "313/313 [==============================] - 4s 12ms/step - loss: 1.0890 - accuracy: 0.5737 - val_loss: 0.7502 - val_accuracy: 0.7240\n",
      "Epoch 3/30\n",
      "313/313 [==============================] - 4s 12ms/step - loss: 0.6553 - accuracy: 0.7558 - val_loss: 0.7166 - val_accuracy: 0.7320\n",
      "Epoch 4/30\n",
      "313/313 [==============================] - 4s 12ms/step - loss: 0.5671 - accuracy: 0.7924 - val_loss: 0.6044 - val_accuracy: 0.7630\n",
      "Epoch 5/30\n",
      "313/313 [==============================] - 4s 12ms/step - loss: 0.4817 - accuracy: 0.8262 - val_loss: 0.5122 - val_accuracy: 0.7990\n",
      "Epoch 6/30\n",
      "313/313 [==============================] - 4s 12ms/step - loss: 0.4090 - accuracy: 0.8586 - val_loss: 0.5055 - val_accuracy: 0.8100\n",
      "Epoch 7/30\n",
      "313/313 [==============================] - 4s 12ms/step - loss: 0.3579 - accuracy: 0.8778 - val_loss: 0.4299 - val_accuracy: 0.8360\n",
      "Epoch 8/30\n",
      "313/313 [==============================] - 4s 12ms/step - loss: 0.3089 - accuracy: 0.8998 - val_loss: 0.4488 - val_accuracy: 0.8620\n",
      "Epoch 9/30\n",
      "313/313 [==============================] - 4s 12ms/step - loss: 0.2799 - accuracy: 0.9119 - val_loss: 0.3323 - val_accuracy: 0.8820\n",
      "Epoch 10/30\n",
      "313/313 [==============================] - 4s 12ms/step - loss: 0.2634 - accuracy: 0.9204 - val_loss: 0.3522 - val_accuracy: 0.8860\n",
      "Epoch 11/30\n",
      "313/313 [==============================] - 4s 12ms/step - loss: 0.2576 - accuracy: 0.9251 - val_loss: 0.3441 - val_accuracy: 0.8800\n",
      "Epoch 12/30\n",
      "313/313 [==============================] - 4s 12ms/step - loss: 0.2291 - accuracy: 0.9308 - val_loss: 0.3564 - val_accuracy: 0.8820\n",
      "Epoch 13/30\n",
      "313/313 [==============================] - 4s 12ms/step - loss: 0.2159 - accuracy: 0.9367 - val_loss: 0.4035 - val_accuracy: 0.8750\n",
      "Epoch 14/30\n",
      "313/313 [==============================] - 4s 12ms/step - loss: 0.2133 - accuracy: 0.9389 - val_loss: 0.3565 - val_accuracy: 0.8890\n",
      "Epoch 15/30\n",
      "313/313 [==============================] - 4s 12ms/step - loss: 0.1919 - accuracy: 0.9443 - val_loss: 0.3556 - val_accuracy: 0.8830\n",
      "Epoch 16/30\n",
      "313/313 [==============================] - 4s 12ms/step - loss: 0.1887 - accuracy: 0.9466 - val_loss: 0.3312 - val_accuracy: 0.9010\n",
      "Epoch 17/30\n",
      "313/313 [==============================] - 4s 12ms/step - loss: 0.1873 - accuracy: 0.9473 - val_loss: 0.3329 - val_accuracy: 0.9040\n",
      "Epoch 18/30\n",
      "313/313 [==============================] - 4s 12ms/step - loss: 0.1675 - accuracy: 0.9529 - val_loss: 0.3765 - val_accuracy: 0.8990\n",
      "Epoch 19/30\n",
      "313/313 [==============================] - 4s 12ms/step - loss: 0.1705 - accuracy: 0.9544 - val_loss: 0.4017 - val_accuracy: 0.8950\n",
      "Epoch 20/30\n",
      "313/313 [==============================] - 4s 14ms/step - loss: 0.1661 - accuracy: 0.9515 - val_loss: 0.3065 - val_accuracy: 0.9030\n",
      "Epoch 21/30\n",
      "313/313 [==============================] - 5s 15ms/step - loss: 0.1701 - accuracy: 0.9554 - val_loss: 0.2734 - val_accuracy: 0.9210\n",
      "Epoch 22/30\n",
      "313/313 [==============================] - 4s 14ms/step - loss: 0.1654 - accuracy: 0.9560 - val_loss: 0.4038 - val_accuracy: 0.9100\n",
      "Epoch 23/30\n",
      "313/313 [==============================] - 5s 16ms/step - loss: 0.1581 - accuracy: 0.9582 - val_loss: 0.3568 - val_accuracy: 0.9090\n",
      "Epoch 24/30\n",
      "313/313 [==============================] - 5s 15ms/step - loss: 0.1449 - accuracy: 0.9596 - val_loss: 0.3108 - val_accuracy: 0.9160\n",
      "Epoch 25/30\n",
      "313/313 [==============================] - 4s 12ms/step - loss: 0.1467 - accuracy: 0.9616 - val_loss: 0.3318 - val_accuracy: 0.9200\n",
      "Epoch 26/30\n",
      "313/313 [==============================] - 4s 13ms/step - loss: 0.1475 - accuracy: 0.9604 - val_loss: 0.3390 - val_accuracy: 0.9080\n",
      "Epoch 27/30\n",
      "313/313 [==============================] - 4s 13ms/step - loss: 0.1475 - accuracy: 0.9616 - val_loss: 0.2997 - val_accuracy: 0.9210\n",
      "Epoch 28/30\n",
      "313/313 [==============================] - 4s 14ms/step - loss: 0.1499 - accuracy: 0.9619 - val_loss: 0.3401 - val_accuracy: 0.9100\n",
      "Epoch 29/30\n",
      "313/313 [==============================] - 4s 12ms/step - loss: 0.1459 - accuracy: 0.9630 - val_loss: 0.3271 - val_accuracy: 0.9200\n",
      "Epoch 30/30\n",
      "313/313 [==============================] - 4s 13ms/step - loss: 0.1438 - accuracy: 0.9641 - val_loss: 0.3502 - val_accuracy: 0.9080\n"
     ]
    }
   ],
   "source": [
    "# fit the model\n",
    "r = model2.fit(\n",
    "  [inputs_train, queries_train],\n",
    "  answers_train,\n",
    "  epochs=30,\n",
    "  batch_size=32,\n",
    "  validation_data=([inputs_test, queries_test], answers_test)\n",
    ")"
   ]
  },
  {
   "cell_type": "code",
   "execution_count": 20,
   "metadata": {},
   "outputs": [
    {
     "name": "stdout",
     "output_type": "stream",
     "text": [
      "story:\n",
      "\n",
      "0.00000 \t 0.00000 \t 0 Sandra went back to the bedroom .\n",
      "0.00000 \t 0.00000 \t 1 John got the apple there .\n",
      "0.00000 \t 0.00000 \t 2 John moved to the office .\n",
      "0.00000 \t 0.00000 \t 3 John left the apple .\n",
      "0.00000 \t 0.00000 \t 5 John grabbed the apple there .\n",
      "0.00000 \t 0.00000 \t 6 Daniel journeyed to the hallway .\n",
      "0.00000 \t 0.00000 \t 7 Mary travelled to the bathroom .\n",
      "0.00000 \t 0.00000 \t 8 Daniel moved to the office .\n",
      "0.00000 \t 0.00000 \t 9 Daniel journeyed to the kitchen .\n",
      "0.00000 \t 0.00000 \t 10 John travelled to the garden .\n",
      "0.00000 \t 0.00001 \t 11 John moved to the bedroom .\n",
      "0.00000 \t 0.00004 \t 12 John went back to the office .\n",
      "0.00022 \t 0.00000 \t 13 John put down the apple .\n",
      "0.00013 \t 0.00000 \t 14 John grabbed the apple there .\n",
      "0.00000 \t 0.00279 \t 15 John moved to the kitchen .\n",
      "0.00000 \t 0.00277 \t 16 John travelled to the office .\n",
      "0.24201 \t 0.00000 \t 18 John dropped the apple .\n",
      "0.00000 \t 0.00000 \t 19 Daniel moved to the office .\n",
      "0.75764 \t 0.00000 \t 21 John grabbed the apple there .\n",
      "0.00000 \t 0.99439 \t 22 John journeyed to the garden .\n",
      "question: Where is the apple ?\n",
      "answer: garden\n",
      "prediction: garden\n"
     ]
    }
   ],
   "source": [
    "### print story line weights again ###\n",
    "debug_model2 = Model(\n",
    "  [input_story_, input_question_],\n",
    "  [story_weights1, story_weights2]\n",
    ")\n",
    "# choose a random story\n",
    "story_idx = np.random.choice(len(train_stories))\n",
    "\n",
    "# get weights from debug model\n",
    "i = inputs_train[story_idx:story_idx+1]\n",
    "q = queries_train[story_idx:story_idx+1]\n",
    "w1, w2 = debug_model2.predict([i, q])\n",
    "w1 = w1.flatten()\n",
    "w2 = w2.flatten()\n",
    "\n",
    "story, question, ans = train_stories[story_idx]\n",
    "print(\"story:\\n\")\n",
    "for j, line in enumerate(story):\n",
    "  print(\"{:1.5f}\".format(w1[j]), \"\\t\", \"{:1.5f}\".format(w2[j]), \"\\t\", \" \".join(line))\n",
    "\n",
    "print(\"question:\", \" \".join(question))\n",
    "print(\"answer:\", ans)\n",
    "print(\"prediction:\", vocab[ np.argmax(model2.predict([i, q])[0]) ])"
   ]
  },
  {
   "cell_type": "code",
   "execution_count": 21,
   "metadata": {},
   "outputs": [
    {
     "data": {
      "image/png": "[encoded data removed]",
      "text/plain": [
       "<Figure size 432x288 with 1 Axes>"
      ]
     },
     "metadata": {
      "needs_background": "light"
     },
     "output_type": "display_data"
    }
   ],
   "source": [
    "# plot some data\n",
    "plt.plot(r.history['loss'], label='loss')\n",
    "plt.plot(r.history['val_loss'], label='val_loss')\n",
    "plt.legend()\n",
    "plt.show()"
   ]
  },
  {
   "cell_type": "code",
   "execution_count": 22,
   "metadata": {},
   "outputs": [
    {
     "data": {
      "image/png": "[encoded data removed]",
      "text/plain": [
       "<Figure size 432x288 with 1 Axes>"
      ]
     },
     "metadata": {
      "needs_background": "light"
     },
     "output_type": "display_data"
    }
   ],
   "source": [
    "# accuracies\n",
    "plt.plot(r.history['accuracy'], label='acc')\n",
    "plt.plot(r.history['val_accuracy'], label='val_acc')\n",
    "plt.legend()\n",
    "plt.show()"
   ]
  }
 ],
 "metadata": {
  "kernelspec": {
   "display_name": "Python 3",
   "language": "python",
   "name": "python3"
  },
  "language_info": {
   "codemirror_mode": {
    "name": "ipython",
    "version": 3
   },
   "file_extension": ".py",
   "mimetype": "text/x-python",
   "name": "python",
   "nbconvert_exporter": "python",
   "pygments_lexer": "ipython3",
   "version": "3.8.3"
  }
 },
 "nbformat": 4,
 "nbformat_minor": 4
}
